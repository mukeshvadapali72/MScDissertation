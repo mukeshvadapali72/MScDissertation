{
 "cells": [
  {
   "cell_type": "markdown",
   "metadata": {},
   "source": [
    "Importing Libraries"
   ]
  },
  {
   "cell_type": "code",
   "execution_count": 1,
   "metadata": {},
   "outputs": [],
   "source": [
    "import pandas as pd\n",
    "import numpy as np"
   ]
  },
  {
   "cell_type": "code",
   "execution_count": 2,
   "metadata": {},
   "outputs": [],
   "source": [
    "import os\n",
    "cwd = os.getcwd()"
   ]
  },
  {
   "cell_type": "code",
   "execution_count": 3,
   "metadata": {},
   "outputs": [
    {
     "data": {
      "text/plain": [
       "'C:\\\\Users\\\\mukes\\\\Documents\\\\Datascience\\\\Dessertation Related\\\\Data'"
      ]
     },
     "execution_count": 3,
     "metadata": {},
     "output_type": "execute_result"
    }
   ],
   "source": [
    "cwd"
   ]
  },
  {
   "cell_type": "code",
   "execution_count": 4,
   "metadata": {},
   "outputs": [],
   "source": [
    "with open (\"C:/Users/mukes/Documents/Datascience/Dessertation Related/Data/webblogs data/refinerypage27.txt\", \"r+\",encoding='utf-8') as myfile:\n",
    "    refinery=myfile.readlines()"
   ]
  },
  {
   "cell_type": "code",
   "execution_count": 8,
   "metadata": {},
   "outputs": [],
   "source": [
    "with open (\"C:/Users/mukes/Documents/Datascience/Dessertation Related/Data/webblogs data/mariecuriefashiontext.txt\", \"r+\",encoding='utf-8') as myfile:\n",
    "    mariecurie=myfile.readlines()"
   ]
  },
  {
   "cell_type": "code",
   "execution_count": 9,
   "metadata": {},
   "outputs": [],
   "source": [
    "with open (\"C:/Users/mukes/Documents/Datascience/Dessertation Related/Data/webblogs data/justthedesign.txt\", \"r+\",encoding='utf-8') as myfile:\n",
    "    justthedesign=myfile.readlines()"
   ]
  },
  {
   "cell_type": "code",
   "execution_count": 10,
   "metadata": {},
   "outputs": [],
   "source": [
    "with open (\"C:/Users/mukes/Documents/Datascience/Dessertation Related/Data/webblogs data/voguefashiontext.txt\", \"r+\",encoding='utf-8') as myfile:\n",
    "    voguefashion=myfile.readlines()"
   ]
  },
  {
   "cell_type": "code",
   "execution_count": 18,
   "metadata": {},
   "outputs": [],
   "source": [
    "with open (\"C:/Users/mukes/Documents/Datascience/Dessertation Related/Data/webblogs data/vogueind1.txt\", \"r+\",encoding='utf-8') as myfile:\n",
    "    voguein=myfile.readlines()"
   ]
  },
  {
   "cell_type": "code",
   "execution_count": 15,
   "metadata": {},
   "outputs": [],
   "source": [
    "with open (\"C:/Users/mukes/Documents/Datascience/Dessertation Related/Data/webblogs data/fashionspot.txt\", \"r+\",encoding='utf-8') as myfile:\n",
    "    fashionspot=myfile.readlines()"
   ]
  },
  {
   "cell_type": "code",
   "execution_count": 19,
   "metadata": {},
   "outputs": [],
   "source": [
    "fashionwebblogs = refinery + mariecurie + justthedesign + voguefashion + voguein + fashionspot"
   ]
  },
  {
   "cell_type": "code",
   "execution_count": 20,
   "metadata": {},
   "outputs": [
    {
     "data": {
      "text/plain": [
       "6"
      ]
     },
     "execution_count": 20,
     "metadata": {},
     "output_type": "execute_result"
    }
   ],
   "source": [
    "len(fashionwebblogs)"
   ]
  },
  {
   "cell_type": "code",
   "execution_count": 21,
   "metadata": {},
   "outputs": [],
   "source": [
    "fashionblogsnames = ['justthedesign','mariecuriefashiontext','refinery29','voguefashiontext','vogueIndia','fashionspotcontent']"
   ]
  },
  {
   "cell_type": "code",
   "execution_count": 22,
   "metadata": {},
   "outputs": [],
   "source": [
    "#dirName = 'C:/Users/mukes/Documents/Datascience/Dessertation Related/Data/fashiontranscripts/'\n",
    "#os.mkdir(dirName)"
   ]
  },
  {
   "cell_type": "code",
   "execution_count": 23,
   "metadata": {},
   "outputs": [],
   "source": [
    "fashiontranscripts = [u for u in fashionwebblogs]"
   ]
  },
  {
   "cell_type": "code",
   "execution_count": 24,
   "metadata": {},
   "outputs": [],
   "source": [
    "import pickle\n",
    "for i, c in enumerate(fashionblogsnames):\n",
    "     with open(\"C:/Users/mukes/Documents/Datascience/Dessertation Related/Data/fashiontranscripts/\" + c + \".txt\", \"wb\") as fashiontextraw:\n",
    "         pickle.dump(fashiontranscripts[i], fashiontextraw)"
   ]
  },
  {
   "cell_type": "code",
   "execution_count": 25,
   "metadata": {},
   "outputs": [],
   "source": [
    "data = {}\n",
    "for i, c in enumerate(fashionblogsnames):\n",
    "    with open(\"C:/Users/mukes/Documents/Datascience/Dessertation Related/Data/fashiontranscripts/\" + c + \".txt\", \"rb\") as fashiontextraw:\n",
    "        data[c] = pickle.load(fashiontextraw)"
   ]
  },
  {
   "cell_type": "code",
   "execution_count": 26,
   "metadata": {},
   "outputs": [
    {
     "data": {
      "text/plain": [
       "dict_keys(['justthedesign', 'mariecuriefashiontext', 'refinery29', 'voguefashiontext', 'vogueIndia', 'fashionspotcontent'])"
      ]
     },
     "execution_count": 26,
     "metadata": {},
     "output_type": "execute_result"
    }
   ],
   "source": [
    "data.keys()"
   ]
  },
  {
   "cell_type": "code",
   "execution_count": 27,
   "metadata": {},
   "outputs": [
    {
     "data": {
      "text/plain": [
       "'justthedesign'"
      ]
     },
     "execution_count": 27,
     "metadata": {},
     "output_type": "execute_result"
    }
   ],
   "source": [
    "next(iter(data.keys()))"
   ]
  },
  {
   "cell_type": "code",
   "execution_count": 28,
   "metadata": {},
   "outputs": [],
   "source": [
    "def combine_text(list_of_text):\n",
    "    '''Takes a list of text and combines them into one large chunk of text.'''\n",
    "    combined_text = ''.join(list_of_text)\n",
    "    return combined_text\n"
   ]
  },
  {
   "cell_type": "code",
   "execution_count": 29,
   "metadata": {},
   "outputs": [],
   "source": [
    "# Combine it!\n",
    "data_combined = {key: [combine_text(value)] for (key, value) in data.items()}"
   ]
  },
  {
   "cell_type": "code",
   "execution_count": 30,
   "metadata": {},
   "outputs": [
    {
     "data": {
      "text/html": [
       "<div>\n",
       "<style scoped>\n",
       "    .dataframe tbody tr th:only-of-type {\n",
       "        vertical-align: middle;\n",
       "    }\n",
       "\n",
       "    .dataframe tbody tr th {\n",
       "        vertical-align: top;\n",
       "    }\n",
       "\n",
       "    .dataframe thead th {\n",
       "        text-align: right;\n",
       "    }\n",
       "</style>\n",
       "<table border=\"1\" class=\"dataframe\">\n",
       "  <thead>\n",
       "    <tr style=\"text-align: right;\">\n",
       "      <th></th>\n",
       "      <th>fashiontext</th>\n",
       "    </tr>\n",
       "  </thead>\n",
       "  <tbody>\n",
       "    <tr>\n",
       "      <td>fashionspotcontent</td>\n",
       "      <td>\"There are certain staples every wardrobe needs — especially when it comes to summer. We’re talking jeans, tank tops, shorts, miniskirts, T-shirts...</td>\n",
       "    </tr>\n",
       "    <tr>\n",
       "      <td>justthedesign</td>\n",
       "      <td>Our Reasons To Give Into The Embroidery Trend &amp; How To Wear Itby            Margaret Wright            Recognised for the beauty it can add to und...</td>\n",
       "    </tr>\n",
       "    <tr>\n",
       "      <td>mariecuriefashiontext</td>\n",
       "      <td>https://www.marieclaire.co.uk/fashion/build-a-more-sustainable-wardrobe-699294  'Words by Rosanna Falconer ', 'Let’s begin with the elephant in th...</td>\n",
       "    </tr>\n",
       "    <tr>\n",
       "      <td>refinery29</td>\n",
       "      <td>Velvet material was seen all over the fall runways  this time around it’s more luxurious  colourful and versatile than ever before. Velvet is one ...</td>\n",
       "    </tr>\n",
       "    <tr>\n",
       "      <td>vogueIndia</td>\n",
       "      <td>5 designer labels you will always find in alia bhatt wardrobe  Viral Bhayani    Fashion    28 May 2020    From statement making Indian wear by Sab...</td>\n",
       "    </tr>\n",
       "    <tr>\n",
       "      <td>voguefashiontext</td>\n",
       "      <td>//www.vogue.co.uk//fashion/article/guide-to-buying-a-watch   WatchesHow To Buy A Watch: Vogue’s Ultimate GuideBy Rachel Garrahan27 May 2020Facebo...</td>\n",
       "    </tr>\n",
       "  </tbody>\n",
       "</table>\n",
       "</div>"
      ],
      "text/plain": [
       "                                                                                                                                                                 fashiontext\n",
       "fashionspotcontent     \"There are certain staples every wardrobe needs — especially when it comes to summer. We’re talking jeans, tank tops, shorts, miniskirts, T-shirts...\n",
       "justthedesign          Our Reasons To Give Into The Embroidery Trend & How To Wear Itby            Margaret Wright            Recognised for the beauty it can add to und...\n",
       "mariecuriefashiontext  https://www.marieclaire.co.uk/fashion/build-a-more-sustainable-wardrobe-699294  'Words by Rosanna Falconer ', 'Let’s begin with the elephant in th...\n",
       "refinery29             Velvet material was seen all over the fall runways  this time around it’s more luxurious  colourful and versatile than ever before. Velvet is one ...\n",
       "vogueIndia             5 designer labels you will always find in alia bhatt wardrobe  Viral Bhayani    Fashion    28 May 2020    From statement making Indian wear by Sab...\n",
       "voguefashiontext        //www.vogue.co.uk//fashion/article/guide-to-buying-a-watch   WatchesHow To Buy A Watch: Vogue’s Ultimate GuideBy Rachel Garrahan27 May 2020Facebo..."
      ]
     },
     "execution_count": 30,
     "metadata": {},
     "output_type": "execute_result"
    }
   ],
   "source": [
    "\n",
    "import pandas as pd\n",
    "pd.set_option('max_colwidth',150)\n",
    "\n",
    "data_df = pd.DataFrame.from_dict(data_combined).transpose()\n",
    "data_df.columns = ['fashiontext']\n",
    "data_df = data_df.sort_index()\n",
    "data_df"
   ]
  },
  {
   "cell_type": "code",
   "execution_count": 31,
   "metadata": {},
   "outputs": [],
   "source": [
    "#data_df.to_csv('fashionblogs1.csv')"
   ]
  }
 ],
 "metadata": {
  "kernelspec": {
   "display_name": "Python 3",
   "language": "python",
   "name": "python3"
  },
  "language_info": {
   "codemirror_mode": {
    "name": "ipython",
    "version": 3
   },
   "file_extension": ".py",
   "mimetype": "text/x-python",
   "name": "python",
   "nbconvert_exporter": "python",
   "pygments_lexer": "ipython3",
   "version": "3.7.4"
  }
 },
 "nbformat": 4,
 "nbformat_minor": 2
}
